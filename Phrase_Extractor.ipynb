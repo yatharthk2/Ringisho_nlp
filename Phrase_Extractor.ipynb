{
  "cells": [
    {
      "cell_type": "code",
      "execution_count": 3,
      "metadata": {
        "colab": {
          "base_uri": "https://localhost:8080/"
        },
        "id": "qjMMW3MfNtM5",
        "outputId": "681b8658-2ea0-4427-f6b1-fa80759eadf8"
      },
      "outputs": [
        {
          "name": "stdout",
          "output_type": "stream",
          "text": [
            "Defaulting to user installation because normal site-packages is not writeable\n",
            "Requirement already satisfied: spacy in /home/the_tunnster/.local/lib/python3.9/site-packages (3.2.1)\n",
            "Requirement already satisfied: preshed<3.1.0,>=3.0.2 in /home/the_tunnster/.local/lib/python3.9/site-packages (from spacy) (3.0.6)\n",
            "Requirement already satisfied: pathy>=0.3.5 in /home/the_tunnster/.local/lib/python3.9/site-packages (from spacy) (0.6.1)\n",
            "Requirement already satisfied: spacy-legacy<3.1.0,>=3.0.8 in /home/the_tunnster/.local/lib/python3.9/site-packages (from spacy) (3.0.8)\n",
            "Requirement already satisfied: setuptools in /home/the_tunnster/.local/lib/python3.9/site-packages (from spacy) (60.8.1)\n",
            "Requirement already satisfied: cymem<2.1.0,>=2.0.2 in /home/the_tunnster/.local/lib/python3.9/site-packages (from spacy) (2.0.6)\n",
            "Requirement already satisfied: blis<0.8.0,>=0.4.0 in /home/the_tunnster/.local/lib/python3.9/site-packages (from spacy) (0.7.5)\n",
            "Requirement already satisfied: murmurhash<1.1.0,>=0.28.0 in /home/the_tunnster/.local/lib/python3.9/site-packages (from spacy) (1.0.6)\n",
            "Requirement already satisfied: wasabi<1.1.0,>=0.8.1 in /home/the_tunnster/.local/lib/python3.9/site-packages (from spacy) (0.9.0)\n",
            "Requirement already satisfied: jinja2 in /home/the_tunnster/.local/lib/python3.9/site-packages (from spacy) (3.0.3)\n",
            "Requirement already satisfied: langcodes<4.0.0,>=3.2.0 in /home/the_tunnster/.local/lib/python3.9/site-packages (from spacy) (3.3.0)\n",
            "Requirement already satisfied: packaging>=20.0 in /home/the_tunnster/.local/lib/python3.9/site-packages (from spacy) (21.3)\n",
            "Requirement already satisfied: srsly<3.0.0,>=2.4.1 in /home/the_tunnster/.local/lib/python3.9/site-packages (from spacy) (2.4.2)\n",
            "Requirement already satisfied: requests<3.0.0,>=2.13.0 in /usr/lib/python3/dist-packages (from spacy) (2.25.1)\n",
            "Requirement already satisfied: catalogue<2.1.0,>=2.0.6 in /home/the_tunnster/.local/lib/python3.9/site-packages (from spacy) (2.0.6)\n",
            "Requirement already satisfied: pydantic!=1.8,!=1.8.1,<1.9.0,>=1.7.4 in /home/the_tunnster/.local/lib/python3.9/site-packages (from spacy) (1.8.2)\n",
            "Requirement already satisfied: typer<0.5.0,>=0.3.0 in /home/the_tunnster/.local/lib/python3.9/site-packages (from spacy) (0.4.0)\n",
            "Requirement already satisfied: spacy-loggers<2.0.0,>=1.0.0 in /home/the_tunnster/.local/lib/python3.9/site-packages (from spacy) (1.0.1)\n",
            "Requirement already satisfied: tqdm<5.0.0,>=4.38.0 in /home/the_tunnster/.local/lib/python3.9/site-packages (from spacy) (4.62.3)\n",
            "Requirement already satisfied: numpy>=1.15.0 in /home/the_tunnster/.local/lib/python3.9/site-packages (from spacy) (1.22.2)\n",
            "Requirement already satisfied: thinc<8.1.0,>=8.0.12 in /home/the_tunnster/.local/lib/python3.9/site-packages (from spacy) (8.0.13)\n",
            "Requirement already satisfied: pyparsing!=3.0.5,>=2.0.2 in /home/the_tunnster/.local/lib/python3.9/site-packages (from packaging>=20.0->spacy) (3.0.7)\n",
            "Requirement already satisfied: smart-open<6.0.0,>=5.0.0 in /home/the_tunnster/.local/lib/python3.9/site-packages (from pathy>=0.3.5->spacy) (5.2.1)\n",
            "Requirement already satisfied: typing-extensions>=3.7.4.3 in /home/the_tunnster/.local/lib/python3.9/site-packages (from pydantic!=1.8,!=1.8.1,<1.9.0,>=1.7.4->spacy) (4.0.1)\n",
            "Requirement already satisfied: click<9.0.0,>=7.1.1 in /home/the_tunnster/.local/lib/python3.9/site-packages (from typer<0.5.0,>=0.3.0->spacy) (8.0.3)\n",
            "Requirement already satisfied: MarkupSafe>=2.0 in /home/the_tunnster/.local/lib/python3.9/site-packages (from jinja2->spacy) (2.0.1)\n",
            "Note: you may need to restart the kernel to use updated packages.\n",
            "Defaulting to user installation because normal site-packages is not writeable\n",
            "Requirement already satisfied: yake in /home/the_tunnster/.local/lib/python3.9/site-packages (0.4.8)\n",
            "Requirement already satisfied: segtok in /home/the_tunnster/.local/lib/python3.9/site-packages (from yake) (1.5.11)\n",
            "Requirement already satisfied: networkx in /home/the_tunnster/.local/lib/python3.9/site-packages (from yake) (2.6.3)\n",
            "Requirement already satisfied: click>=6.0 in /home/the_tunnster/.local/lib/python3.9/site-packages (from yake) (8.0.3)\n",
            "Requirement already satisfied: jellyfish in /home/the_tunnster/.local/lib/python3.9/site-packages (from yake) (0.9.0)\n",
            "Requirement already satisfied: tabulate in /home/the_tunnster/.local/lib/python3.9/site-packages (from yake) (0.8.9)\n",
            "Requirement already satisfied: numpy in /home/the_tunnster/.local/lib/python3.9/site-packages (from yake) (1.22.2)\n",
            "Requirement already satisfied: regex in /home/the_tunnster/.local/lib/python3.9/site-packages (from segtok->yake) (2022.1.18)\n",
            "Note: you may need to restart the kernel to use updated packages.\n",
            "Defaulting to user installation because normal site-packages is not writeable\n",
            "Requirement already satisfied: gensim in /home/the_tunnster/.local/lib/python3.9/site-packages (4.1.2)\n",
            "Requirement already satisfied: numpy>=1.17.0 in /home/the_tunnster/.local/lib/python3.9/site-packages (from gensim) (1.22.2)\n",
            "Requirement already satisfied: scipy>=0.18.1 in /home/the_tunnster/.local/lib/python3.9/site-packages (from gensim) (1.8.0)\n",
            "Requirement already satisfied: smart-open>=1.8.1 in /home/the_tunnster/.local/lib/python3.9/site-packages (from gensim) (5.2.1)\n",
            "Note: you may need to restart the kernel to use updated packages.\n",
            "Defaulting to user installation because normal site-packages is not writeable\n",
            "Requirement already satisfied: rake_nltk in /home/the_tunnster/.local/lib/python3.9/site-packages (1.0.6)\n",
            "Requirement already satisfied: nltk<4.0.0,>=3.6.2 in /home/the_tunnster/.local/lib/python3.9/site-packages (from rake_nltk) (3.6.7)\n",
            "Requirement already satisfied: joblib in /home/the_tunnster/.local/lib/python3.9/site-packages (from nltk<4.0.0,>=3.6.2->rake_nltk) (1.1.0)\n",
            "Requirement already satisfied: click in /home/the_tunnster/.local/lib/python3.9/site-packages (from nltk<4.0.0,>=3.6.2->rake_nltk) (8.0.3)\n",
            "Requirement already satisfied: regex>=2021.8.3 in /home/the_tunnster/.local/lib/python3.9/site-packages (from nltk<4.0.0,>=3.6.2->rake_nltk) (2022.1.18)\n",
            "Requirement already satisfied: tqdm in /home/the_tunnster/.local/lib/python3.9/site-packages (from nltk<4.0.0,>=3.6.2->rake_nltk) (4.62.3)\n",
            "Note: you may need to restart the kernel to use updated packages.\n"
          ]
        }
      ],
      "source": [
        "%pip install spacy\n",
        "%pip install yake\n",
        "%pip install gensim\n",
        "%pip install rake_nltk"
      ]
    },
    {
      "cell_type": "code",
      "execution_count": 15,
      "metadata": {
        "colab": {
          "base_uri": "https://localhost:8080/"
        },
        "id": "53OEkBSyRtqe",
        "outputId": "b0156698-9bc7-48e9-abdf-0cff1c645471"
      },
      "outputs": [
        {
          "name": "stdout",
          "output_type": "stream",
          "text": [
            "('camera for YouTube', 0.04940384002065631)\n",
            "('buy a good', 0.09700399286574239)\n",
            "('good camera', 0.09700399286574239)\n",
            "('YouTube', 0.15831692877998726)\n",
            "('buy', 0.29736558256021506)\n",
            "('good', 0.29736558256021506)\n",
            "('camera', 0.29736558256021506)\n"
          ]
        }
      ],
      "source": [
        "import yake\n",
        "import nltk\n",
        "import gensim\n",
        "kw_extractor = yake.KeywordExtractor()\n",
        "# text = \"spaCy is an open-source software library for advanced natural language processing\"\n",
        "text = \"\"\"Should I buy a good camera for YouTube?\"\"\"\n",
        "language = \"en\"\n",
        "max_ngram_size = 3\n",
        "deduplication_threshold = 0.9\n",
        "numOfKeywords = 20\n",
        "custom_kw_extractor = yake.KeywordExtractor(lan=language, n=max_ngram_size, dedupLim=deduplication_threshold, top=numOfKeywords, features=None)\n",
        "keywords = custom_kw_extractor.extract_keywords(text)\n",
        "for kw in keywords:\n",
        "   print(kw)"
      ]
    },
    {
      "cell_type": "code",
      "execution_count": 9,
      "metadata": {
        "colab": {
          "base_uri": "https://localhost:8080/"
        },
        "id": "YxcxKfOYXrSf",
        "outputId": "fdb85d7e-2c88-46ad-b254-850f38f371c7"
      },
      "outputs": [
        {
          "ename": "ModuleNotFoundError",
          "evalue": "No module named 'gensim.summarization'",
          "output_type": "error",
          "traceback": [
            "\u001b[0;31m---------------------------------------------------------------------------\u001b[0m",
            "\u001b[0;31mModuleNotFoundError\u001b[0m                       Traceback (most recent call last)",
            "\u001b[1;32m/home/the_tunnster/Workspaces/Ringisho Stuff/Phrase_Extractor.ipynb Cell 3'\u001b[0m in \u001b[0;36m<module>\u001b[0;34m\u001b[0m\n\u001b[0;32m----> <a href='vscode-notebook-cell:/home/the_tunnster/Workspaces/Ringisho%20Stuff/Phrase_Extractor.ipynb#ch0000002?line=0'>1</a>\u001b[0m \u001b[39mfrom\u001b[39;00m \u001b[39mgensim\u001b[39;00m\u001b[39m.\u001b[39;00m\u001b[39msummarization\u001b[39;00m \u001b[39mimport\u001b[39;00m keywords\n\u001b[1;32m      <a href='vscode-notebook-cell:/home/the_tunnster/Workspaces/Ringisho%20Stuff/Phrase_Extractor.ipynb#ch0000002?line=1'>2</a>\u001b[0m text \u001b[39m=\u001b[39m \u001b[39m\"\"\"\u001b[39m\u001b[39mDiscuss the design of the two phones, noting that the iPhone 13 \u001b[39m\u001b[39m\"\"\"\u001b[39m\n\u001b[1;32m      <a href='vscode-notebook-cell:/home/the_tunnster/Workspaces/Ringisho%20Stuff/Phrase_Extractor.ipynb#ch0000002?line=3'>4</a>\u001b[0m \u001b[39m# test = \"should i buy a house in new york city ?\"\u001b[39;00m\n",
            "\u001b[0;31mModuleNotFoundError\u001b[0m: No module named 'gensim.summarization'"
          ]
        }
      ],
      "source": [
        "\n",
        "from gensim.summarization import keywords\n",
        "text = \"\"\"Discuss the design of the two phones, noting that the iPhone 13 \"\"\"\n",
        "\n",
        "# test = \"should i buy a house in new york city ?\"\n",
        "\n",
        "print(keywords(text))"
      ]
    },
    {
      "cell_type": "code",
      "execution_count": 7,
      "metadata": {
        "colab": {
          "base_uri": "https://localhost:8080/",
          "height": 1000
        },
        "id": "6GVKmN8Fbyn8",
        "outputId": "07faeeb9-103c-4cd7-ca33-8a36c735a297"
      },
      "outputs": [
        {
          "ename": "NameError",
          "evalue": "name 'nltk' is not defined",
          "output_type": "error",
          "traceback": [
            "\u001b[0;31m---------------------------------------------------------------------------\u001b[0m",
            "\u001b[0;31mNameError\u001b[0m                                 Traceback (most recent call last)",
            "\u001b[1;32m/home/the_tunnster/Workspaces/Ringisho Stuff/Phrase_Extractor.ipynb Cell 4'\u001b[0m in \u001b[0;36m<module>\u001b[0;34m\u001b[0m\n\u001b[1;32m      <a href='vscode-notebook-cell:/home/the_tunnster/Workspaces/Ringisho%20Stuff/Phrase_Extractor.ipynb#ch0000003?line=0'>1</a>\u001b[0m \u001b[39mfrom\u001b[39;00m \u001b[39mrake_nltk\u001b[39;00m \u001b[39mimport\u001b[39;00m Rake\n\u001b[0;32m----> <a href='vscode-notebook-cell:/home/the_tunnster/Workspaces/Ringisho%20Stuff/Phrase_Extractor.ipynb#ch0000003?line=1'>2</a>\u001b[0m nltk\u001b[39m.\u001b[39mdownload(\u001b[39m'\u001b[39m\u001b[39mstopwords\u001b[39m\u001b[39m'\u001b[39m)\n\u001b[1;32m      <a href='vscode-notebook-cell:/home/the_tunnster/Workspaces/Ringisho%20Stuff/Phrase_Extractor.ipynb#ch0000003?line=2'>3</a>\u001b[0m rake_nltk_var \u001b[39m=\u001b[39m Rake()\n\u001b[1;32m      <a href='vscode-notebook-cell:/home/the_tunnster/Workspaces/Ringisho%20Stuff/Phrase_Extractor.ipynb#ch0000003?line=3'>4</a>\u001b[0m text \u001b[39m=\u001b[39m \u001b[39m\"\"\"\u001b[39m\u001b[39mspaCy is an open-source software library for advanced natural language processing,\u001b[39m\n\u001b[1;32m      <a href='vscode-notebook-cell:/home/the_tunnster/Workspaces/Ringisho%20Stuff/Phrase_Extractor.ipynb#ch0000003?line=4'>5</a>\u001b[0m \u001b[39mwritten in the programming languages Python and Cython. The library is published under the MIT license\u001b[39m\n\u001b[1;32m      <a href='vscode-notebook-cell:/home/the_tunnster/Workspaces/Ringisho%20Stuff/Phrase_Extractor.ipynb#ch0000003?line=5'>6</a>\u001b[0m \u001b[39mand its main developers are Matthew Honnibal and Ines Montani, the founders of the software company Explosion.\u001b[39m\u001b[39m\"\"\"\u001b[39m\n",
            "\u001b[0;31mNameError\u001b[0m: name 'nltk' is not defined"
          ]
        }
      ],
      "source": [
        "from rake_nltk import Rake\n",
        "rake_nltk_var = Rake()\n",
        "text = \"\"\"spaCy is an open-source software library for advanced natural language processing,\n",
        "written in the programming languages Python and Cython. The library is published under the MIT license\n",
        "and its main developers are Matthew Honnibal and Ines Montani, the founders of the software company Explosion.\"\"\"\n",
        "rake_nltk_var.extract_keywords_from_text(text)\n",
        "keyword_extracted = rake_nltk_var.get_ranked_phrases()\n",
        "print(keyword_extracted)"
      ]
    }
  ],
  "metadata": {
    "colab": {
      "name": "Phrase_Extractor.ipynb",
      "provenance": []
    },
    "kernelspec": {
      "display_name": "Python 3",
      "name": "python3"
    },
    "language_info": {
      "codemirror_mode": {
        "name": "ipython",
        "version": 3
      },
      "file_extension": ".py",
      "mimetype": "text/x-python",
      "name": "python",
      "nbconvert_exporter": "python",
      "pygments_lexer": "ipython3",
      "version": "3.9.7"
    }
  },
  "nbformat": 4,
  "nbformat_minor": 0
}
